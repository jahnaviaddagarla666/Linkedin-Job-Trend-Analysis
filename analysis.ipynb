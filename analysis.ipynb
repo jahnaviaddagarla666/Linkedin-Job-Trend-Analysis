{
 "cells": [
  {
   "cell_type": "markdown",
   "id": "a98c5170",
   "metadata": {},
   "source": [
    "# LinkedIn Job Trends Analysis"
   ]
  },
  {
   "cell_type": "code",
   "execution_count": null,
   "id": "1903484c",
   "metadata": {},
   "outputs": [],
   "source": [
    "import pandas as pd, seaborn as sns, matplotlib.pyplot as plt\n",
    "\n",
    "df = pd.read_parquet('data/jobs.parquet')\n",
    "print(df.head())"
   ]
  }
 ],
 "metadata": {},
 "nbformat": 4,
 "nbformat_minor": 5
}
